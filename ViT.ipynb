{
 "cells": [
  {
   "cell_type": "code",
   "execution_count": 2,
   "metadata": {},
   "outputs": [],
   "source": [
    "from src import engine, data_setup, models, utils"
   ]
  },
  {
   "cell_type": "code",
   "execution_count": 3,
   "metadata": {},
   "outputs": [
    {
     "name": "stdout",
     "output_type": "stream",
     "text": [
      "[CONNECTED] NVIDIA GeForce RTX 3070\n"
     ]
    }
   ],
   "source": [
    "device = engine.initialize()"
   ]
  },
  {
   "cell_type": "code",
   "execution_count": 13,
   "metadata": {},
   "outputs": [],
   "source": [
    "import torch\n",
    "from torch import nn\n",
    "\n",
    "class PatchEmbed(nn.Module):\n",
    "\n",
    "    \"\"\"Split image into patches and then embed them.\n",
    "    \n",
    "    Parameters\n",
    "    ----------\n",
    "    img_size : int\n",
    "        Size of image (it is a square).\n",
    "\n",
    "    patch_size : int\n",
    "        Size of patch (it is a square).\n",
    "\n",
    "    in_channels : int\n",
    "        Number of input channels.\n",
    "\n",
    "    embed_dim : int\n",
    "        Dimension of embedding (output).\n",
    "\n",
    "    Attributes\n",
    "    ----------\n",
    "    n_patches : int\n",
    "        Number of patches inside image.\n",
    "\n",
    "    proj : nn.Conv2d\n",
    "        Convolutional layer that does both the splitting into patches and their embedding.\n",
    "    \"\"\"\n",
    "\n",
    "    def __init__(self, img_size, patch_size, in_channels=3, embed_dim=768):\n",
    "        super().__init__()\n",
    "        \n",
    "        self.img_size = img_size\n",
    "        self.patch_size = patch_size\n",
    "        self.in_channels = in_channels\n",
    "        self.embed_dim = embed_dim\n",
    "\n",
    "        self.n_patches = (img_size // patch_size) ** 2\n",
    "\n",
    "        self.proj = nn.Conv2d(\n",
    "            in_channels=in_channels, \n",
    "            out_channels=embed_dim,\n",
    "            kernel_size=patch_size,\n",
    "            stride=patch_size\n",
    "        )\n",
    "\n",
    "    def forward(self, x):\n",
    "\n",
    "        \"\"\"Run forward pass\n",
    "        \n",
    "        Parameters\n",
    "        ----------\n",
    "        x : torch.Tensor\n",
    "            Shape `(n_samples, in_channels, patch_size, patch_size)`.\n",
    "\n",
    "        Returns\n",
    "        -------\n",
    "        torch.Tensor\n",
    "            Shape `(n_samples, n_patches, embed_dim)`.\n",
    "        \"\"\"\n",
    "\n",
    "        x = self.proj(x)        # (n_samples, embed_dim, n_patches**.5, n_patches**.5)\n",
    "        x = x.flatten(2)        # (n_samples, embed_dim, n_patches)\n",
    "        x = x.transpose(1, 2)   # (n_samples, n_patches, embed_dim)\n",
    "\n",
    "        return x\n",
    "    \n",
    "class Attention(nn.Module):\n",
    "\n",
    "    \"\"\"Attention mechanism\n",
    "    \n",
    "    Parameters\n",
    "    ----------\n",
    "    dim: int\n",
    "        Embedding Dimension: The input and output dimension per token features. \n",
    "\n",
    "    n_heads: int\n",
    "        Number of attention heads.\n",
    "\n",
    "    qkv_bias: bool\n",
    "        If True then we include bias to the query, key and value projections.\n",
    "\n",
    "    attn_p: float\n",
    "        Dropout probability applied to the query, key and value tensors.\n",
    "\n",
    "    proj_p: float\n",
    "        Dropout probability applied to the output tensor.\n",
    "\n",
    "    Returns\n",
    "    -------\n",
    "    \"\"\"\n",
    "\n"
   ]
  },
  {
   "cell_type": "code",
   "execution_count": 12,
   "metadata": {},
   "outputs": [
    {
     "data": {
      "text/plain": [
       "torch.Size([10, 700, 25])"
      ]
     },
     "execution_count": 12,
     "metadata": {},
     "output_type": "execute_result"
    }
   ],
   "source": [
    "x = torch.randn(10, 700, 5, 5)\n",
    "x.flatten(start_dim=2).shape"
   ]
  },
  {
   "cell_type": "code",
   "execution_count": null,
   "metadata": {},
   "outputs": [],
   "source": []
  }
 ],
 "metadata": {
  "kernelspec": {
   "display_name": "venv",
   "language": "python",
   "name": "python3"
  },
  "language_info": {
   "codemirror_mode": {
    "name": "ipython",
    "version": 3
   },
   "file_extension": ".py",
   "mimetype": "text/x-python",
   "name": "python",
   "nbconvert_exporter": "python",
   "pygments_lexer": "ipython3",
   "version": "3.11.2"
  },
  "orig_nbformat": 4
 },
 "nbformat": 4,
 "nbformat_minor": 2
}
